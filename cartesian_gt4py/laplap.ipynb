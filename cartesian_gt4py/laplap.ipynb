{
 "cells": [
  {
   "cell_type": "code",
   "execution_count": 1,
   "metadata": {},
   "outputs": [
    {
     "name": "stdout",
     "output_type": "stream",
     "text": [
      "env: BOOST_HOME=/apps/daint/UES/jenkins/7.0.UP03/21.09/daint-gpu/software/Boost/1.78.0-CrayGNU-21.09-python3\n",
      "env: CUDA_ARCH=sm_60\n"
     ]
    }
   ],
   "source": [
    "%env BOOST_HOME=/apps/daint/UES/jenkins/7.0.UP03/21.09/daint-gpu/software/Boost/1.78.0-CrayGNU-21.09-python3\n",
    "%env CUDA_ARCH=sm_60"
   ]
  },
  {
   "cell_type": "code",
   "execution_count": 2,
   "metadata": {},
   "outputs": [
    {
     "data": {
      "text/html": [
       "<link href=\"https://fonts.googleapis.com/icon?family=Material+Icons\" rel=\"stylesheet\"><script src=\"https://spcl.github.io/dace/webclient2/dist/sdfv.js\"></script>\n",
       "<link href=\"https://spcl.github.io/dace/webclient2/sdfv.css\" rel=\"stylesheet\">\n"
      ],
      "text/plain": [
       "<IPython.core.display.HTML object>"
      ]
     },
     "metadata": {},
     "output_type": "display_data"
    },
    {
     "name": "stdout",
     "output_type": "stream",
     "text": [
      "/apps/daint/UES/jenkins/7.0.UP03/21.09/daint-gpu/software/Boost/1.78.0-CrayGNU-21.09-python3\n"
     ]
    }
   ],
   "source": [
    "\n",
    "import numpy as np\n",
    "import matplotlib.pyplot as plt\n",
    "\n",
    "import gt4py\n",
    "from gt4py import gtscript\n",
    "import gt4py.storage as gt_storage\n",
    "\n",
    "print(gt4py.config.BOOST_ROOT)"
   ]
  },
  {
   "cell_type": "code",
   "execution_count": 16,
   "metadata": {},
   "outputs": [],
   "source": [
    "# backend = \"gtc:cuda\"\n",
    "# backend = \"gtc:dace\"\n",
    "# backend = \"gtc:gt:cpu_ifirst\"\n",
    "backend = \"gtc:numpy\"\n",
    "dtype = np.float64"
   ]
  },
  {
   "cell_type": "code",
   "execution_count": 17,
   "metadata": {},
   "outputs": [],
   "source": [
    "@gtscript.function\n",
    "def lap(in_field):\n",
    "    out_field = (\n",
    "        -4.0 * in_field\n",
    "        + in_field[1, 0, 0]\n",
    "        + in_field[-1, 0, 0]\n",
    "        + in_field[0, 1, 0]\n",
    "        + in_field[0, -1, 0]\n",
    "    )\n",
    "    return out_field\n",
    "\n",
    "\n",
    "@gt4py.gtscript.stencil(backend=backend)\n",
    "def laplap(in_field: gtscript.Field[dtype], out_field: gtscript.Field[dtype]):\n",
    "    with computation(PARALLEL), interval(...):\n",
    "        tmp = lap(in_field)\n",
    "        out_field = lap(tmp)\n"
   ]
  },
  {
   "cell_type": "code",
   "execution_count": 18,
   "metadata": {},
   "outputs": [
    {
     "data": {
      "text/plain": [
       "<matplotlib.image.AxesImage at 0x155420374a90>"
      ]
     },
     "execution_count": 18,
     "metadata": {},
     "output_type": "execute_result"
    },
    {
     "data": {
      "image/png": "[encoded data removed]",
      "text/plain": [
       "<Figure size 432x288 with 1 Axes>"
      ]
     },
     "metadata": {
      "needs_background": "light"
     },
     "output_type": "display_data"
    }
   ],
   "source": [
    "Nx = 64\n",
    "Ny = 64\n",
    "Nz = 20\n",
    "\n",
    "shape = (Nx, Ny, Nz)\n",
    "origin = (2, 2, 0)\n",
    "\n",
    "in_storage = gt_storage.from_array(\n",
    "    np.fromfunction(lambda x, y, _: x**5 + y**5, shape, dtype=dtype),\n",
    "    default_origin=origin,\n",
    "    backend=backend,\n",
    ")\n",
    "out_storage = gt_storage.from_array(\n",
    "    np.zeros(shape, dtype=dtype), default_origin=origin, backend=backend\n",
    ")\n",
    "\n",
    "laplap(in_storage, out_storage)\n",
    "\n",
    "out_storage.synchronize()\n",
    "\n",
    "plt.imshow(np.asarray(out_storage)[:, :, 0])"
   ]
  }
 ],
 "metadata": {
  "interpreter": {
   "hash": "82b5b1aaa63ca3bba7a7d7c3a2b2b831a3a0ac3da82d0ae99208f30fc5b41e97"
  },
  "kernelspec": {
   "display_name": "gt4py_daint",
   "language": "python",
   "name": "gt4py_daint"
  },
  "language_info": {
   "codemirror_mode": {
    "name": "ipython",
    "version": 3
   },
   "file_extension": ".py",
   "mimetype": "text/x-python",
   "name": "python",
   "nbconvert_exporter": "python",
   "pygments_lexer": "ipython3",
   "version": "3.9.4"
  }
 },
 "nbformat": 4,
 "nbformat_minor": 4
}
