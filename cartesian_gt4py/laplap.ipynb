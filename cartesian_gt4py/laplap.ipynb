{
 "cells": [
  {
   "cell_type": "code",
   "execution_count": 1,
   "metadata": {},
   "outputs": [
    {
     "data": {
      "text/html": [
       "<link href=\"https://fonts.googleapis.com/icon?family=Material+Icons\" rel=\"stylesheet\">\n",
       "        <script>\n",
       "        require.config({\n",
       "            paths: {\n",
       "                \"math\": \"https://spcl.github.io/dace/webclient/external_lib/math.min\"\n",
       "            },\n",
       "            waitSeconds: 40\n",
       "          });\n",
       "        require( [\"math\"], x => window.math = x);\n",
       "        </script><script src=\"https://spcl.github.io/dace/webclient/renderer_dir/dagre.js\"></script>\n",
       "<script src=\"https://spcl.github.io/dace/webclient/renderer_dir/global_vars.js\"></script>\n",
       "<script src=\"https://spcl.github.io/dace/webclient/context_menu.js\"></script>\n",
       "<script src=\"https://spcl.github.io/dace/webclient/renderer_elements.js\"></script>\n",
       "<script src=\"https://spcl.github.io/dace/webclient/sdfg_utils.js\"></script>\n",
       "<script src=\"https://spcl.github.io/dace/webclient/overlay_manager.js\"></script>\n",
       "<script src=\"https://spcl.github.io/dace/webclient/renderer.js\"></script>\n",
       "<link href=\"https://spcl.github.io/dace/webclient/sdfv.css\" rel=\"stylesheet\">\n"
      ],
      "text/plain": [
       "<IPython.core.display.HTML object>"
      ]
     },
     "metadata": {},
     "output_type": "display_data"
    }
   ],
   "source": [
    "import numpy as np\n",
    "import matplotlib.pyplot as plt\n",
    "\n",
    "import gt4py\n",
    "from gt4py import gtscript\n",
    "import gt4py.storage as gt_storage"
   ]
  },
  {
   "cell_type": "code",
   "execution_count": 2,
   "metadata": {},
   "outputs": [],
   "source": [
    "backend = \"gtc:cuda\"\n",
    "backend = \"gtc:dace\"\n",
    "backend = \"gtc:numpy\"\n",
    "dtype = np.float64"
   ]
  },
  {
   "cell_type": "code",
   "execution_count": 3,
   "metadata": {},
   "outputs": [],
   "source": [
    "@gtscript.function\n",
    "def lap(in_field):\n",
    "    out_field = (\n",
    "        -4.0 * in_field\n",
    "        + in_field[1, 0, 0]\n",
    "        + in_field[-1, 0, 0]\n",
    "        + in_field[0, 1, 0]\n",
    "        + in_field[0, -1, 0]\n",
    "    )\n",
    "    return out_field\n",
    "\n",
    "\n",
    "@gt4py.gtscript.stencil(backend=backend, rebuild=True)\n",
    "def laplap(in_field: gtscript.Field[dtype], out_field: gtscript.Field[dtype]):\n",
    "    with computation(PARALLEL), interval(...):\n",
    "        tmp = lap(in_field)\n",
    "        out_field = lap(tmp)\n"
   ]
  },
  {
   "cell_type": "code",
   "execution_count": null,
   "metadata": {},
   "outputs": [
    {
     "name": "stdout",
     "output_type": "stream",
     "text": [
      "[0. 0. 0. 0. 0. 0. 0. 0. 0. 0. 0. 0. 0. 0. 0. 0.]\n"
     ]
    },
    {
     "data": {
      "text/plain": [
       "<matplotlib.image.AxesImage at 0x7f0388e56880>"
      ]
     },
     "execution_count": 12,
     "metadata": {},
     "output_type": "execute_result"
    },
    {
     "data": {
      "image/png": "[encoded data removed]",
      "text/plain": [
       "<Figure size 432x288 with 1 Axes>"
      ]
     },
     "metadata": {
      "needs_background": "light"
     },
     "output_type": "display_data"
    }
   ],
   "source": [
    "Nx = 16\n",
    "Ny = 16\n",
    "Nz = 16\n",
    "\n",
    "shape = (Nx, Ny, Nz)\n",
    "origin = (2, 2, 0)\n",
    "\n",
    "inp = np.zeros(shape)\n",
    "inp[Nx//2, Ny//2, :] = 1.\n",
    "\n",
    "# inp = np.fromfunction(lambda x, y, _: x**5 + y**5, shape, dtype=dtype),\n",
    "# inp = np.random.rand(*shape),\n",
    "\n",
    "in_storage = gt_storage.from_array(\n",
    "    inp,\n",
    "    default_origin=origin,\n",
    "    backend=backend,\n",
    ")\n",
    "out_storage = gt_storage.from_array(\n",
    "    np.zeros(shape, dtype=dtype), default_origin=origin, backend=backend\n",
    ")\n",
    "\n",
    "laplap(in_storage, out_storage)\n",
    "\n",
    "print(np.asarray(out_storage)[:,1,1])\n",
    "\n",
    "plt.imshow(np.asarray(in_storage)[:, :, 0])\n",
    "# plt.imshow(np.asarray(out_storage)[:, :, 0])\n",
    "# plt.plot(range(Nx),np.asarray(in_storage)[:,1,0])"
   ]
  },
  {
   "cell_type": "code",
   "execution_count": 13,
   "metadata": {},
   "outputs": [
    {
     "data": {
      "text/plain": [
       "<matplotlib.image.AxesImage at 0x7f0388dbe340>"
      ]
     },
     "execution_count": 13,
     "metadata": {},
     "output_type": "execute_result"
    },
    {
     "data": {
      "image/png": "[encoded data removed]",
      "text/plain": [
       "<Figure size 432x288 with 1 Axes>"
      ]
     },
     "metadata": {
      "needs_background": "light"
     },
     "output_type": "display_data"
    }
   ],
   "source": [
    "plt.imshow(np.asarray(out_storage)[:, :, 0])\n"
   ]
  },
  {
   "cell_type": "code",
   "execution_count": 18,
   "metadata": {},
   "outputs": [
    {
     "name": "stdout",
     "output_type": "stream",
     "text": [
      "20.0\n",
      "0.0\n",
      "16.0\n"
     ]
    }
   ],
   "source": [
    "print(np.asarray(out_storage)[Nx//2,Ny//2,0])\n",
    "print(sum(sum(sum(np.asarray(out_storage)))))\n",
    "print(sum(sum(sum(np.asarray(in_storage)))))    "
   ]
  },
  {
   "cell_type": "code",
   "execution_count": null,
   "metadata": {},
   "outputs": [],
   "source": []
  }
 ],
 "metadata": {
  "interpreter": {
   "hash": "82b5b1aaa63ca3bba7a7d7c3a2b2b831a3a0ac3da82d0ae99208f30fc5b41e97"
  },
  "kernelspec": {
   "display_name": "Python 3 (ipykernel)",
   "language": "python",
   "name": "python3"
  },
  "language_info": {
   "codemirror_mode": {
    "name": "ipython",
    "version": 3
   },
   "file_extension": ".py",
   "mimetype": "text/x-python",
   "name": "python",
   "nbconvert_exporter": "python",
   "pygments_lexer": "ipython3",
   "version": "3.8.12"
  }
 },
 "nbformat": 4,
 "nbformat_minor": 4
}
